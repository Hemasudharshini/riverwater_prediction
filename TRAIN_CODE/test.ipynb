{
 "cells": [
  {
   "cell_type": "code",
   "execution_count": 1,
   "id": "641678d7-8c8e-4df3-bb63-9c9288b6fd72",
   "metadata": {},
   "outputs": [
    {
     "name": "stderr",
     "output_type": "stream",
     "text": [
      "WARNING:absl:Compiled the loaded model, but the compiled metrics have yet to be built. `model.compile_metrics` will be empty until you train or evaluate the model.\n"
     ]
    },
    {
     "name": "stdout",
     "output_type": "stream",
     "text": [
      "Model loaded successfully.\n",
      "Scaler loaded successfully.\n",
      "\u001b[1m1/1\u001b[0m \u001b[32m━━━━━━━━━━━━━━━━━━━━\u001b[0m\u001b[37m\u001b[0m \u001b[1m0s\u001b[0m 84ms/step\n",
      "Predicted Water Level: 13.1714\n"
     ]
    }
   ],
   "source": [
    "# Import necessary libraries\n",
    "import pandas as pd\n",
    "from tensorflow.keras.models import load_model\n",
    "import joblib\n",
    "\n",
    "# Load the saved model\n",
    "loaded_model = load_model('water_level_prediction_model.h5')\n",
    "print(\"Model loaded successfully.\")\n",
    "\n",
    "# Load the saved scaler\n",
    "loaded_scaler = joblib.load('scaler_model.pkl')\n",
    "print(\"Scaler loaded successfully.\")\n",
    "\n",
    "# Function to make predictions\n",
    "def predict_water_level(input_data, scaler, model):\n",
    "    # Ensure input_data is a DataFrame\n",
    "    if isinstance(input_data, dict):\n",
    "        input_data = pd.DataFrame([input_data])\n",
    "    \n",
    "    # Normalize the input data\n",
    "    input_scaled = scaler.transform(input_data)\n",
    "    \n",
    "    # Reshape for LSTM (sequence length of 1)\n",
    "    input_scaled = input_scaled.reshape(input_scaled.shape[0], 1, input_scaled.shape[1])\n",
    "    \n",
    "    # Make prediction\n",
    "    prediction = model.predict(input_scaled)\n",
    "    return prediction[0][0]  # Return the predicted value\n",
    "\n",
    "# Example input (replace with your own data)\n",
    "example_input = {\n",
    "    'Historical_Water_Level': 7.5,\n",
    "    'Rainfall': 15.0,\n",
    "    'Temperature': 10.0,\n",
    "    'Seasonality_Month': 1,\n",
    "    'Upstream_Flow': 100.0,\n",
    "    'Evaporation': 2.0,\n",
    "    'Soil_Moisture': 12.0,\n",
    "    'Wind_Speed': 3.0,\n",
    "    'Humidity': 80.0,\n",
    "    'Pressure': 1010.0\n",
    "}\n",
    "\n",
    "# Make a prediction\n",
    "predicted_water_level = predict_water_level(example_input, loaded_scaler, loaded_model)\n",
    "print(f\"Predicted Water Level: {predicted_water_level:.4f}\")"
   ]
  },
  {
   "cell_type": "code",
   "execution_count": null,
   "id": "50d94d04-839f-4ade-8a71-ff1baa591e46",
   "metadata": {},
   "outputs": [],
   "source": []
  }
 ],
 "metadata": {
  "kernelspec": {
   "display_name": "Python 3 (ipykernel)",
   "language": "python",
   "name": "python3"
  },
  "language_info": {
   "codemirror_mode": {
    "name": "ipython",
    "version": 3
   },
   "file_extension": ".py",
   "mimetype": "text/x-python",
   "name": "python",
   "nbconvert_exporter": "python",
   "pygments_lexer": "ipython3",
   "version": "3.12.0"
  }
 },
 "nbformat": 4,
 "nbformat_minor": 5
}
